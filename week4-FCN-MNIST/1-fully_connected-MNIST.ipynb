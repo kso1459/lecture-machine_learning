{
 "cells": [
  {
   "cell_type": "code",
   "execution_count": 1,
   "metadata": {
    "collapsed": true
   },
   "outputs": [],
   "source": [
    "import tensorflow as tf\n",
    "from tensorflow.examples.tutorials.mnist import input_data\n",
    "\n",
    "#ref: https://github.com/tensorflow/tensorflow/blob/master/tensorflow/examples/tutorials/mnist/mnist_softmax.py"
   ]
  },
  {
   "cell_type": "code",
   "execution_count": 2,
   "metadata": {
    "collapsed": false
   },
   "outputs": [
    {
     "name": "stdout",
     "output_type": "stream",
     "text": [
      "Extracting MNIST_data/train-images-idx3-ubyte.gz\n",
      "Extracting MNIST_data/train-labels-idx1-ubyte.gz\n",
      "Extracting MNIST_data/t10k-images-idx3-ubyte.gz\n",
      "Extracting MNIST_data/t10k-labels-idx1-ubyte.gz\n"
     ]
    }
   ],
   "source": [
    "mnist = input_data.read_data_sets('MNIST_data/', one_hot=True)"
   ]
  },
  {
   "cell_type": "code",
   "execution_count": 3,
   "metadata": {
    "collapsed": false
   },
   "outputs": [],
   "source": [
    "# Create the model\n",
    "num_hidden1 = 256\n",
    "num_hidden2 = 256\n",
    "\n",
    "x = tf.placeholder(tf.float32, [None, 784])\n",
    "\n",
    "W1 = tf.Variable(tf.random_normal([784, num_hidden1]))\n",
    "b1 = tf.Variable(tf.random_normal([num_hidden1]))\n",
    "h1 = tf.nn.relu(tf.matmul(x, W1) + b1)\n",
    "\n",
    "W2 = tf.Variable(tf.random_normal([num_hidden1, num_hidden2]))\n",
    "b2 = tf.Variable(tf.random_normal([num_hidden2]))\n",
    "h2 = tf.nn.relu(tf.matmul(h1, W2) + b2)\n",
    "\n",
    "W3 = tf.Variable(tf.random_normal([num_hidden2, 10]))\n",
    "b3 = tf.Variable(tf.random_normal([10]))\n",
    "y = tf.matmul(h2, W3) + b3"
   ]
  },
  {
   "cell_type": "code",
   "execution_count": 4,
   "metadata": {
    "collapsed": true
   },
   "outputs": [],
   "source": [
    "# Define loss and optimizer\n",
    "y_ = tf.placeholder(tf.float32, [None, 10])\n",
    "\n",
    "cross_entropy = tf.reduce_mean(\n",
    "  tf.nn.softmax_cross_entropy_with_logits(labels=y_, logits=y))\n",
    "\"\"\"\n",
    "cross_entropy = tf.reduce_mean(-tf.reduce_sum(y_ * tf.log(tf.nn.softmax(y)),\n",
    "                                 reduction_indices=[1]))\n",
    "\"\"\"\n",
    "train_step = tf.train.GradientDescentOptimizer(0.001).minimize(cross_entropy)"
   ]
  },
  {
   "cell_type": "code",
   "execution_count": 5,
   "metadata": {
    "collapsed": true
   },
   "outputs": [],
   "source": [
    "# Test trained model\n",
    "correct_prediction = tf.equal(tf.argmax(y, 1), tf.argmax(y_, 1))\n",
    "accuracy = tf.reduce_mean(tf.cast(correct_prediction, tf.float32))"
   ]
  },
  {
   "cell_type": "code",
   "execution_count": 6,
   "metadata": {
    "collapsed": false
   },
   "outputs": [
    {
     "name": "stdout",
     "output_type": "stream",
     "text": [
      "0.1313\n",
      "0.6124\n",
      "0.7216\n",
      "0.7623\n",
      "0.7817\n",
      "0.8055\n",
      "0.8158\n",
      "0.8178\n",
      "0.8323\n",
      "0.8387\n",
      "0.8428\n",
      "0.8494\n",
      "0.853\n",
      "0.8561\n",
      "0.8568\n",
      "0.8614\n",
      "0.8654\n",
      "0.8631\n",
      "0.8672\n",
      "0.8695\n",
      "0.8691\n",
      "0.8702\n",
      "0.8764\n",
      "0.877\n",
      "0.8781\n",
      "0.8797\n",
      "0.8804\n",
      "0.8819\n",
      "0.8836\n",
      "0.8847\n",
      "0.8859\n",
      "0.8835\n",
      "0.8876\n",
      "0.8884\n",
      "0.8901\n",
      "0.8895\n",
      "0.8892\n",
      "0.8907\n",
      "0.8896\n",
      "0.895\n",
      "0.8939\n",
      "0.8947\n",
      "0.8943\n",
      "0.8943\n",
      "0.8927\n",
      "0.8992\n",
      "0.8969\n",
      "0.8974\n",
      "0.8939\n",
      "0.8979\n"
     ]
    }
   ],
   "source": [
    "sess = tf.InteractiveSession()\n",
    "tf.global_variables_initializer().run()\n",
    "\n",
    "# Train\n",
    "for i in range(5000):\n",
    "    batch_xs, batch_ys = mnist.train.next_batch(100)\n",
    "    sess.run(train_step, feed_dict={x: batch_xs, y_: batch_ys})\n",
    "    if i % 100 == 0:\n",
    "        print(sess.run(accuracy, feed_dict={x: mnist.test.images,\n",
    "                                            y_: mnist.test.labels}))"
   ]
  }
 ],
 "metadata": {
  "kernelspec": {
   "display_name": "Python 2",
   "language": "python",
   "name": "python2"
  },
  "language_info": {
   "codemirror_mode": {
    "name": "ipython",
    "version": 2
   },
   "file_extension": ".py",
   "mimetype": "text/x-python",
   "name": "python",
   "nbconvert_exporter": "python",
   "pygments_lexer": "ipython2",
   "version": "2.7.12"
  }
 },
 "nbformat": 4,
 "nbformat_minor": 1
}
