{
 "cells": [
  {
   "cell_type": "code",
   "execution_count": 1,
   "metadata": {
    "collapsed": true
   },
   "outputs": [],
   "source": [
    "import tensorflow as tf\n",
    "from tensorflow.examples.tutorials.mnist import input_data\n",
    "# ref: https://www.tensorflow.org/get_started/mnist/pros"
   ]
  },
  {
   "cell_type": "code",
   "execution_count": 2,
   "metadata": {
    "collapsed": false
   },
   "outputs": [
    {
     "name": "stdout",
     "output_type": "stream",
     "text": [
      "Extracting MNIST_data/train-images-idx3-ubyte.gz\n",
      "Extracting MNIST_data/train-labels-idx1-ubyte.gz\n",
      "Extracting MNIST_data/t10k-images-idx3-ubyte.gz\n",
      "Extracting MNIST_data/t10k-labels-idx1-ubyte.gz\n"
     ]
    }
   ],
   "source": [
    "mnist = input_data.read_data_sets('MNIST_data/', one_hot=True)"
   ]
  },
  {
   "cell_type": "code",
   "execution_count": 3,
   "metadata": {
    "collapsed": false
   },
   "outputs": [],
   "source": [
    "def weight_variable(shape):\n",
    "    \"\"\"\n",
    "    < tf.truncated_normal >\n",
    "    \n",
    "    The generated values follow a normal distribution \n",
    "    with specified mean and standard deviation, \n",
    "    except that values whose magnitude is more than 2 standard deviations \n",
    "    from the mean are dropped and re-picked.\n",
    "    \"\"\"\n",
    "    initial = tf.truncated_normal(shape, stddev=0.1)\n",
    "    return tf.Variable(initial)\n",
    "\n",
    "def bias_variable(shape):\n",
    "    initial = tf.constant(0.1, shape=shape)\n",
    "    return tf.Variable(initial)\n",
    "\n",
    "def conv2d(x, W):\n",
    "    \"\"\"\n",
    "    x (input feature maps) : [num_batch, height, width, channel]\n",
    "    W (convolution filter): [filter_height, filter_width, in_channel, out_channel]\n",
    "    return (output feature maps): [num_batch, height, width, channel]\n",
    "    \"\"\"\n",
    "    return tf.nn.conv2d(x, W, strides=[1, 1, 1, 1], padding='SAME')\n",
    "\n",
    "def max_pool_2x2(x):\n",
    "    \"\"\"\n",
    "    x (input feature maps) : [num_batch, height, width, channel]\n",
    "    ksize (window size) : [window_batch, window_height, window_width, window_channel]\n",
    "    return (output feature maps) : [num_batch, height/2, width/2, channel]\n",
    "    \"\"\"\n",
    "    return tf.nn.max_pool(x, ksize=[1, 2, 2, 1],\n",
    "                          strides=[1, 2, 2, 1], padding='SAME')"
   ]
  },
  {
   "cell_type": "code",
   "execution_count": 4,
   "metadata": {
    "collapsed": true
   },
   "outputs": [],
   "source": [
    "# Convolutional Neural Networks Model\n",
    "x = tf.placeholder(tf.float32, [None, 784])\n",
    "x_image = tf.reshape(x, [None,28,28,1])\n",
    "\n",
    "W_conv1 = weight_variable([5, 5, 1, 32])\n",
    "b_conv1 = bias_variable([32])\n",
    "h_conv1 = tf.nn.relu(conv2d(x_image, W_conv1) + b_conv1)   # [None, 28, 28, 32]\n",
    "h_pool1 = max_pool_2x2(h_conv1)                            # [None, 14, 14, 32]\n",
    "\n",
    "W_conv2 = weight_variable([5, 5, 32, 64])\n",
    "b_conv2 = bias_variable([64])\n",
    "h_conv2 = tf.nn.relu(conv2d(h_pool1, W_conv2) + b_conv2)   # [None, 14, 14, 64]\n",
    "h_pool2 = max_pool_2x2(h_conv2)                            # [None, 7, 7, 64]\n",
    "\n",
    "W_fc1 = weight_variable([7 * 7 * 64, 1024])              \n",
    "b_fc1 = bias_variable([1024])\n",
    "h_pool2_flat = tf.reshape(h_pool2, [-1, 7*7*64])\n",
    "h_fc1 = tf.nn.relu(tf.matmul(h_pool2_flat, W_fc1) + b_fc1) # [None, 1024]\n",
    "\n",
    "W_fc2 = weight_variable([1024, 10])\n",
    "b_fc2 = bias_variable([10])\n",
    "y = tf.matmul(h_fc1, W_fc2) + b_fc2                        # [None, 10]"
   ]
  },
  {
   "cell_type": "code",
   "execution_count": 5,
   "metadata": {
    "collapsed": true
   },
   "outputs": [],
   "source": [
    "# Define loss and optimizer\n",
    "y_ = tf.placeholder(tf.float32, [None, 10])\n",
    "\n",
    "cross_entropy = tf.reduce_mean(\n",
    "  tf.nn.softmax_cross_entropy_with_logits(labels=y_, logits=y))\n",
    "\n",
    "train_step = tf.train.GradientDescentOptimizer(0.001).minimize(cross_entropy)"
   ]
  },
  {
   "cell_type": "code",
   "execution_count": 6,
   "metadata": {
    "collapsed": true
   },
   "outputs": [],
   "source": [
    "# Test trained model\n",
    "correct_prediction = tf.equal(tf.argmax(y, 1), tf.argmax(y_, 1))\n",
    "accuracy = tf.reduce_mean(tf.cast(correct_prediction, tf.float32))"
   ]
  },
  {
   "cell_type": "code",
   "execution_count": 7,
   "metadata": {
    "collapsed": false
   },
   "outputs": [
    {
     "name": "stdout",
     "output_type": "stream",
     "text": [
      "0.0595\n",
      "0.6017\n",
      "0.7526\n",
      "0.801\n",
      "0.8482\n",
      "0.8603\n",
      "0.8815\n",
      "0.8875\n",
      "0.8956\n",
      "0.902\n",
      "0.9111\n",
      "0.9105\n",
      "0.9185\n",
      "0.9195\n",
      "0.923\n",
      "0.9257\n",
      "0.9282\n",
      "0.9316\n",
      "0.9321\n",
      "0.9343\n",
      "0.9349\n",
      "0.9316\n",
      "0.9384\n",
      "0.9396\n",
      "0.9375\n",
      "0.9415\n",
      "0.9401\n",
      "0.9433\n",
      "0.944\n",
      "0.9441\n",
      "0.9466\n",
      "0.9446\n",
      "0.9456\n",
      "0.949\n",
      "0.9483\n",
      "0.9495\n",
      "0.9476\n",
      "0.9509\n",
      "0.9506\n",
      "0.9514\n",
      "0.954\n",
      "0.9536\n",
      "0.9533\n",
      "0.9531\n",
      "0.9518\n",
      "0.9551\n",
      "0.9557\n",
      "0.9562\n",
      "0.9554\n",
      "0.9544\n"
     ]
    }
   ],
   "source": [
    "sess = tf.InteractiveSession()\n",
    "tf.global_variables_initializer().run()\n",
    "\n",
    "# Train\n",
    "for i in range(5000):\n",
    "    batch_xs, batch_ys = mnist.train.next_batch(50)\n",
    "    sess.run(train_step, feed_dict={x: batch_xs, y_: batch_ys})\n",
    "    if i%100 == 0:\n",
    "        print(sess.run(accuracy, feed_dict={x: mnist.test.images,\n",
    "                                            y_: mnist.test.labels}))"
   ]
  }
 ],
 "metadata": {
  "kernelspec": {
   "display_name": "Python 2",
   "language": "python",
   "name": "python2"
  },
  "language_info": {
   "codemirror_mode": {
    "name": "ipython",
    "version": 2
   },
   "file_extension": ".py",
   "mimetype": "text/x-python",
   "name": "python",
   "nbconvert_exporter": "python",
   "pygments_lexer": "ipython2",
   "version": "2.7.12"
  }
 },
 "nbformat": 4,
 "nbformat_minor": 1
}
